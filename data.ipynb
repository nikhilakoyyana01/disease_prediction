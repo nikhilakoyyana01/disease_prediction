{
 "cells": [
  {
   "cell_type": "code",
   "execution_count": 18,
   "metadata": {},
   "outputs": [],
   "source": [
    "import pandas as pd\n",
    "#reading the diseases-symptoms dataset\n",
    "diseases=pd.read_csv(\"C:\\\\Users\\\\KAUSIK\\\\Desktop\\\\datasets\\\\dataset.csv\")\n",
    "diseases = diseases.sample(frac=1)\n",
    "diseases.reset_index(drop=True, inplace=True)\n",
    "cols = diseases.columns\n",
    "data = diseases[cols].values.flatten()\n",
    "\n",
    "s = pd.Series(data)\n",
    "s = s.str.strip()\n",
    "s = s.values.reshape(diseases.shape)\n",
    "\n",
    "diseases= pd.DataFrame(s, columns=diseases.columns)\n",
    "#reading the symptom-severity dataset\n",
    "severity=pd.read_csv(\"C:\\\\Users\\\\KAUSIK\\\\Desktop\\\\datasets\\\\Symptom-severity.csv\")\n",
    "vals = diseases.values\n",
    "symptoms = severity['Symptom'].unique()\n",
    "\n",
    "for i in range(len(symptoms)):\n",
    "    vals[vals == symptoms[i]] = severity[severity['Symptom'] == symptoms[i]]['weight'].values[0]\n",
    "    \n",
    "diseases = pd.DataFrame(vals, columns=cols)\n",
    "diseases.fillna(0, inplace=True)\n",
    "diseases = diseases.replace('dischromic _patches', 0)\n",
    "diseases = diseases.replace('spotting_ urination',0)\n",
    "diseases = diseases.replace('foul_smell_of urine',0)\n",
    "diseases.to_csv('C:\\\\Users\\\\KAUSIK\\\\Desktop\\\\datasets\\\\modified_dataset.csv', index=False)"
   ]
  }
 ],
 "metadata": {
  "kernelspec": {
   "display_name": "Python 3",
   "language": "python",
   "name": "python3"
  },
  "language_info": {
   "codemirror_mode": {
    "name": "ipython",
    "version": 3
   },
   "file_extension": ".py",
   "mimetype": "text/x-python",
   "name": "python",
   "nbconvert_exporter": "python",
   "pygments_lexer": "ipython3",
   "version": "3.11.4"
  }
 },
 "nbformat": 4,
 "nbformat_minor": 2
}
